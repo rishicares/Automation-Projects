{
 "cells": [
  {
   "cell_type": "code",
   "execution_count": 1,
   "metadata": {},
   "outputs": [
    {
     "name": "stdout",
     "output_type": "stream",
     "text": [
      "Files have been moved and renamed successfully.\n"
     ]
    }
   ],
   "source": [
    "import os\n",
    "import shutil\n",
    "\n",
    "# Define the base directory\n",
    "base_dir = 'yolo'\n",
    "destination_dir = os.path.join(base_dir, 'data_images')\n",
    "\n",
    "# Create the destination directory if it doesn't exist\n",
    "os.makedirs(destination_dir, exist_ok=True)\n",
    "\n",
    "# Iterate over each folder in the base directory\n",
    "for folder_name in os.listdir(base_dir):\n",
    "    folder_path = os.path.join(base_dir, folder_name)\n",
    "    \n",
    "    # Check if it's a directory\n",
    "    if os.path.isdir(folder_path) and folder_name != 'data_images':\n",
    "        # Iterate over each file in the current folder\n",
    "        for file_name in os.listdir(folder_path):\n",
    "            file_path = os.path.join(folder_path, file_name)\n",
    "            \n",
    "            # Check if it's a file\n",
    "            if os.path.isfile(file_path):\n",
    "                # Create the new file name\n",
    "                new_file_name = f\"{folder_name}_{file_name}\"\n",
    "                new_file_path = os.path.join(destination_dir, new_file_name)\n",
    "                \n",
    "                # Move and rename the file\n",
    "                shutil.move(file_path, new_file_path)\n",
    "\n",
    "print(\"Files have been moved and renamed successfully.\")\n"
   ]
  },
  {
   "cell_type": "code",
   "execution_count": 1,
   "metadata": {},
   "outputs": [
    {
     "name": "stdout",
     "output_type": "stream",
     "text": [
      "XML files have been updated successfully.\n"
     ]
    }
   ],
   "source": [
    "import os\n",
    "import xml.etree.ElementTree as ET\n",
    "\n",
    "# Define the directory containing the XML files\n",
    "xml_dir = 'yolo/data_images'\n",
    "\n",
    "# Function to update XML files\n",
    "def update_xml_file(xml_path):\n",
    "    tree = ET.parse(xml_path)\n",
    "    root = tree.getroot()\n",
    "\n",
    "    # Get the file name from the XML file name\n",
    "    file_name = os.path.basename(xml_path).replace('.xml', '.jpg')\n",
    "    file_path = os.path.join(xml_dir, file_name)\n",
    "\n",
    "    for elem in root.findall(\"filename\"):\n",
    "        elem.text = file_name\n",
    "    \n",
    "    for elem in root.findall(\"path\"):\n",
    "        elem.text = file_path\n",
    "\n",
    "    tree.write(xml_path)\n",
    "\n",
    "# Iterate over each file in the xml_dir\n",
    "for file_name in os.listdir(xml_dir):\n",
    "    if file_name.endswith('.xml'):\n",
    "        file_path = os.path.join(xml_dir, file_name)\n",
    "        update_xml_file(file_path)\n",
    "\n",
    "print(\"XML files have been updated successfully.\")\n"
   ]
  }
 ],
 "metadata": {
  "kernelspec": {
   "display_name": "base",
   "language": "python",
   "name": "python3"
  },
  "language_info": {
   "codemirror_mode": {
    "name": "ipython",
    "version": 3
   },
   "file_extension": ".py",
   "mimetype": "text/x-python",
   "name": "python",
   "nbconvert_exporter": "python",
   "pygments_lexer": "ipython3",
   "version": "3.11.7"
  }
 },
 "nbformat": 4,
 "nbformat_minor": 2
}
