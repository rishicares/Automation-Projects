{
 "cells": [
  {
   "cell_type": "markdown",
   "metadata": {},
   "source": [
    "# After Renaming"
   ]
  },
  {
   "cell_type": "code",
   "execution_count": 5,
   "metadata": {},
   "outputs": [
    {
     "name": "stdout",
     "output_type": "stream",
     "text": [
      "Files have been renamed and XML files updated successfully.\n"
     ]
    }
   ],
   "source": [
    "import os\n",
    "import glob\n",
    "import xml.etree.ElementTree as ET\n",
    "\n",
    "# Define the directory containing the files\n",
    "directory = 'plane/'\n",
    "\n",
    "# Get list of all .jpg and .xml files in the directory\n",
    "jpg_files = glob.glob(os.path.join(directory, '*.jpg'))\n",
    "xml_files = glob.glob(os.path.join(directory, '*.xml'))\n",
    "\n",
    "# Function to update XML file contents\n",
    "def update_xml_file(xml_file, new_filename):\n",
    "    tree = ET.parse(xml_file)\n",
    "    root = tree.getroot()\n",
    "\n",
    "    for filename in root.iter('filename'):\n",
    "        filename.text = new_filename\n",
    "    for path in root.iter('path'):\n",
    "        path.text = new_filename\n",
    "\n",
    "    tree.write(xml_file)\n",
    "\n",
    "# Process JPEG and XML files\n",
    "for jpg_file in jpg_files:\n",
    "    base = os.path.basename(jpg_file)\n",
    "    new_filename = base.split('_jpg.rf.')[0] + '.jpg'\n",
    "    new_filepath = os.path.join(directory, new_filename)\n",
    "\n",
    "    # Rename the file\n",
    "    os.rename(jpg_file, new_filepath)\n",
    "\n",
    "for xml_file in xml_files:\n",
    "    base = os.path.basename(xml_file)\n",
    "    new_filename = base.split('_jpg.rf.')[0] + '.xml'\n",
    "    new_filepath = os.path.join(directory, new_filename)\n",
    "\n",
    "    # Rename the file\n",
    "    os.rename(xml_file, new_filepath)\n",
    "\n",
    "    # Update the contents of the XML file\n",
    "    update_xml_file(new_filepath, new_filename.replace('.xml', '.jpg'))\n",
    "\n",
    "print(\"Files have been renamed and XML files updated successfully.\")\n"
   ]
  }
 ],
 "metadata": {
  "kernelspec": {
   "display_name": "base",
   "language": "python",
   "name": "python3"
  },
  "language_info": {
   "codemirror_mode": {
    "name": "ipython",
    "version": 3
   },
   "file_extension": ".py",
   "mimetype": "text/x-python",
   "name": "python",
   "nbconvert_exporter": "python",
   "pygments_lexer": "ipython3",
   "version": "3.11.7"
  }
 },
 "nbformat": 4,
 "nbformat_minor": 2
}
