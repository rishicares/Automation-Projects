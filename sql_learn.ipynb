{
 "cells": [
  {
   "cell_type": "code",
   "execution_count": 6,
   "metadata": {},
   "outputs": [],
   "source": [
    "import pandas as pd\n",
    "import mysql.connector\n"
   ]
  },
  {
   "cell_type": "code",
   "execution_count": null,
   "metadata": {},
   "outputs": [],
   "source": []
  },
  {
   "cell_type": "code",
   "execution_count": 15,
   "metadata": {},
   "outputs": [],
   "source": [
    "conn = mysql.connector.connect(\n",
    "    host='localhost',\n",
    "    user='rishi',\n",
    "    password='admin',\n",
    "    database='test'\n",
    ")"
   ]
  },
  {
   "cell_type": "code",
   "execution_count": 16,
   "metadata": {},
   "outputs": [
    {
     "name": "stdout",
     "output_type": "stream",
     "text": [
      "   id    name      address\n",
      "0   1  rajesh  rajeshnagar\n"
     ]
    },
    {
     "name": "stderr",
     "output_type": "stream",
     "text": [
      "C:\\Users\\rishi\\AppData\\Local\\Temp\\ipykernel_10344\\2554276804.py:2: UserWarning: pandas only supports SQLAlchemy connectable (engine/connection) or database string URI or sqlite3 DBAPI2 connection. Other DBAPI2 objects are not tested. Please consider using SQLAlchemy.\n",
      "  df = pd.read_sql(query,conn)\n"
     ]
    }
   ],
   "source": [
    "query ='SELECT*from table1'\n",
    "df = pd.read_sql(query,conn)\n",
    "print(df)"
   ]
  },
  {
   "cell_type": "code",
   "execution_count": 17,
   "metadata": {},
   "outputs": [],
   "source": [
    "import numpy as np\n",
    "import pandas as pd\n",
    "from sklearn.preprocessing import OneHotEncoder, StandardScaler\n",
    "\n",
    "# Set random seed for reproducibility\n",
    "np.random.seed(42)\n",
    "\n",
    "# Number of samples\n",
    "n_samples = 500\n",
    "\n",
    "# Generate synthetic bank-related data\n",
    "data = pd.DataFrame({\n",
    "    'Customer_ID': np.arange(1, n_samples + 1),\n",
    "    'Age': np.random.randint(18, 70, size=n_samples),                            # Age of the customer\n",
    "    'Account_Balance': np.random.uniform(1000, 100000, size=n_samples),          # Account balance\n",
    "    'Loan_Amount': np.random.uniform(5000, 500000, size=n_samples),              # Loan amount\n",
    "    'Loan_Duration': np.random.randint(12, 360, size=n_samples),                 # Loan duration in months\n",
    "    'Loan_Type': np.random.choice(['Personal', 'Home', 'Auto'], size=n_samples), # Loan type\n",
    "    'Income': np.random.uniform(25000, 200000, size=n_samples),                  # Annual income\n",
    "    'Marital_Status': np.random.choice(['Married', 'Single'], size=n_samples),   # Marital status\n",
    "    'Target': np.random.uniform(10000, 50000, size=n_samples)                    # Target: Loan repayment amount (regression target)\n",
    "})\n",
    "\n",
    "# Introduce some outliers in Account_Balance and Loan_Amount\n",
    "outliers = np.random.choice(data.index, size=10, replace=False)\n",
    "data.loc[outliers, 'Account_Balance'] *= 10  # Inflate Account_Balance for outliers\n",
    "data.loc[outliers, 'Loan_Amount'] *= 10      # Inflate Loan_Amount for outliers\n",
    "\n",
    "# Display Loan_Amount with commas (for display purposes)\n",
    "data['Loan_Amount_Display'] = data['Loan_Amount'].apply(lambda x: f\"{x:,.2f}\")\n",
    "\n",
    "# Display the first few rows of the dataset\n",
    "data[['Customer_ID', 'Age', 'Account_Balance', 'Loan_Amount_Display', 'Loan_Duration', 'Loan_Type', 'Income', 'Marital_Status', 'Target']].head()\n",
    "data.to_csv('outliers.csv')"
   ]
  },
  {
   "cell_type": "code",
   "execution_count": null,
   "metadata": {},
   "outputs": [],
   "source": []
  },
  {
   "cell_type": "code",
   "execution_count": 18,
   "metadata": {},
   "outputs": [],
   "source": [
    "import seaborn as sns"
   ]
  },
  {
   "cell_type": "code",
   "execution_count": 21,
   "metadata": {},
   "outputs": [
    {
     "data": {
      "text/plain": [
       "<Axes: >"
      ]
     },
     "execution_count": 21,
     "metadata": {},
     "output_type": "execute_result"
    },
    {
     "data": {
      "image/png": "[encoded data removed]",
      "text/plain": [
       "<Figure size 640x480 with 1 Axes>"
      ]
     },
     "metadata": {},
     "output_type": "display_data"
    }
   ],
   "source": [
    "sns.boxplot(data[['Account_Balance','Loan_Amount']])"
   ]
  },
  {
   "cell_type": "code",
   "execution_count": 23,
   "metadata": {},
   "outputs": [],
   "source": [
    "from sklearn.preprocessing import LabelEncoder\n",
    "# encode using label encoder\n",
    "def encode_label(df, col):\n",
    "    le = LabelEncoder()\n",
    "    le.fit(df[col])\n",
    "    df[col] = le.transform(df[col])\n",
    "    return df"
   ]
  },
  {
   "cell_type": "code",
   "execution_count": 22,
   "metadata": {},
   "outputs": [],
   "source": [
    "cols_to_encode = ['Loan_Type', 'Marital_Status']"
   ]
  },
  {
   "cell_type": "code",
   "execution_count": 28,
   "metadata": {},
   "outputs": [],
   "source": [
    "data[cols_to_encode]=data[cols_to_encode].apply(LabelEncoder().fit_transform)"
   ]
  },
  {
   "cell_type": "code",
   "execution_count": 29,
   "metadata": {},
   "outputs": [
    {
     "data": {
      "text/html": [
       "<div>\n",
       "<style scoped>\n",
       "    .dataframe tbody tr th:only-of-type {\n",
       "        vertical-align: middle;\n",
       "    }\n",
       "\n",
       "    .dataframe tbody tr th {\n",
       "        vertical-align: top;\n",
       "    }\n",
       "\n",
       "    .dataframe thead th {\n",
       "        text-align: right;\n",
       "    }\n",
       "</style>\n",
       "<table border=\"1\" class=\"dataframe\">\n",
       "  <thead>\n",
       "    <tr style=\"text-align: right;\">\n",
       "      <th></th>\n",
       "      <th>Customer_ID</th>\n",
       "      <th>Age</th>\n",
       "      <th>Account_Balance</th>\n",
       "      <th>Loan_Amount</th>\n",
       "      <th>Loan_Duration</th>\n",
       "      <th>Loan_Type</th>\n",
       "      <th>Income</th>\n",
       "      <th>Marital_Status</th>\n",
       "      <th>Target</th>\n",
       "      <th>Loan_Amount_Display</th>\n",
       "    </tr>\n",
       "  </thead>\n",
       "  <tbody>\n",
       "    <tr>\n",
       "      <th>0</th>\n",
       "      <td>1</td>\n",
       "      <td>56</td>\n",
       "      <td>955316.627857</td>\n",
       "      <td>2.710108e+06</td>\n",
       "      <td>66</td>\n",
       "      <td>1</td>\n",
       "      <td>195100.932686</td>\n",
       "      <td>0</td>\n",
       "      <td>41725.714960</td>\n",
       "      <td>2,710,108.23</td>\n",
       "    </tr>\n",
       "    <tr>\n",
       "      <th>1</th>\n",
       "      <td>2</td>\n",
       "      <td>69</td>\n",
       "      <td>74051.794753</td>\n",
       "      <td>4.603285e+05</td>\n",
       "      <td>249</td>\n",
       "      <td>1</td>\n",
       "      <td>131492.272722</td>\n",
       "      <td>0</td>\n",
       "      <td>44151.396868</td>\n",
       "      <td>460,328.53</td>\n",
       "    </tr>\n",
       "    <tr>\n",
       "      <th>2</th>\n",
       "      <td>3</td>\n",
       "      <td>46</td>\n",
       "      <td>55881.051199</td>\n",
       "      <td>1.764413e+05</td>\n",
       "      <td>184</td>\n",
       "      <td>2</td>\n",
       "      <td>86163.615115</td>\n",
       "      <td>0</td>\n",
       "      <td>19679.085213</td>\n",
       "      <td>176,441.27</td>\n",
       "    </tr>\n",
       "    <tr>\n",
       "      <th>3</th>\n",
       "      <td>4</td>\n",
       "      <td>32</td>\n",
       "      <td>61560.353877</td>\n",
       "      <td>1.767418e+05</td>\n",
       "      <td>232</td>\n",
       "      <td>0</td>\n",
       "      <td>44966.762355</td>\n",
       "      <td>1</td>\n",
       "      <td>48425.079021</td>\n",
       "      <td>176,741.83</td>\n",
       "    </tr>\n",
       "    <tr>\n",
       "      <th>4</th>\n",
       "      <td>5</td>\n",
       "      <td>60</td>\n",
       "      <td>42540.406180</td>\n",
       "      <td>3.700631e+05</td>\n",
       "      <td>130</td>\n",
       "      <td>0</td>\n",
       "      <td>51468.195029</td>\n",
       "      <td>0</td>\n",
       "      <td>17877.028178</td>\n",
       "      <td>370,063.12</td>\n",
       "    </tr>\n",
       "    <tr>\n",
       "      <th>...</th>\n",
       "      <td>...</td>\n",
       "      <td>...</td>\n",
       "      <td>...</td>\n",
       "      <td>...</td>\n",
       "      <td>...</td>\n",
       "      <td>...</td>\n",
       "      <td>...</td>\n",
       "      <td>...</td>\n",
       "      <td>...</td>\n",
       "      <td>...</td>\n",
       "    </tr>\n",
       "    <tr>\n",
       "      <th>495</th>\n",
       "      <td>496</td>\n",
       "      <td>65</td>\n",
       "      <td>34184.526923</td>\n",
       "      <td>3.487428e+04</td>\n",
       "      <td>106</td>\n",
       "      <td>1</td>\n",
       "      <td>26551.074895</td>\n",
       "      <td>1</td>\n",
       "      <td>23345.135833</td>\n",
       "      <td>34,874.28</td>\n",
       "    </tr>\n",
       "    <tr>\n",
       "      <th>496</th>\n",
       "      <td>497</td>\n",
       "      <td>42</td>\n",
       "      <td>80482.491411</td>\n",
       "      <td>1.273161e+05</td>\n",
       "      <td>281</td>\n",
       "      <td>2</td>\n",
       "      <td>199618.649744</td>\n",
       "      <td>0</td>\n",
       "      <td>41662.328104</td>\n",
       "      <td>127,316.10</td>\n",
       "    </tr>\n",
       "    <tr>\n",
       "      <th>497</th>\n",
       "      <td>498</td>\n",
       "      <td>57</td>\n",
       "      <td>1458.570277</td>\n",
       "      <td>8.397462e+04</td>\n",
       "      <td>332</td>\n",
       "      <td>2</td>\n",
       "      <td>143443.727300</td>\n",
       "      <td>0</td>\n",
       "      <td>28051.764521</td>\n",
       "      <td>83,974.62</td>\n",
       "    </tr>\n",
       "    <tr>\n",
       "      <th>498</th>\n",
       "      <td>499</td>\n",
       "      <td>62</td>\n",
       "      <td>34016.417997</td>\n",
       "      <td>4.365329e+05</td>\n",
       "      <td>121</td>\n",
       "      <td>0</td>\n",
       "      <td>169982.127404</td>\n",
       "      <td>1</td>\n",
       "      <td>17337.687856</td>\n",
       "      <td>436,532.87</td>\n",
       "    </tr>\n",
       "    <tr>\n",
       "      <th>499</th>\n",
       "      <td>500</td>\n",
       "      <td>18</td>\n",
       "      <td>40418.700666</td>\n",
       "      <td>1.135109e+05</td>\n",
       "      <td>347</td>\n",
       "      <td>0</td>\n",
       "      <td>76558.394361</td>\n",
       "      <td>0</td>\n",
       "      <td>44198.960782</td>\n",
       "      <td>113,510.92</td>\n",
       "    </tr>\n",
       "  </tbody>\n",
       "</table>\n",
       "<p>500 rows × 10 columns</p>\n",
       "</div>"
      ],
      "text/plain": [
       "     Customer_ID  Age  Account_Balance   Loan_Amount  Loan_Duration  \\\n",
       "0              1   56    955316.627857  2.710108e+06             66   \n",
       "1              2   69     74051.794753  4.603285e+05            249   \n",
       "2              3   46     55881.051199  1.764413e+05            184   \n",
       "3              4   32     61560.353877  1.767418e+05            232   \n",
       "4              5   60     42540.406180  3.700631e+05            130   \n",
       "..           ...  ...              ...           ...            ...   \n",
       "495          496   65     34184.526923  3.487428e+04            106   \n",
       "496          497   42     80482.491411  1.273161e+05            281   \n",
       "497          498   57      1458.570277  8.397462e+04            332   \n",
       "498          499   62     34016.417997  4.365329e+05            121   \n",
       "499          500   18     40418.700666  1.135109e+05            347   \n",
       "\n",
       "     Loan_Type         Income  Marital_Status        Target  \\\n",
       "0            1  195100.932686               0  41725.714960   \n",
       "1            1  131492.272722               0  44151.396868   \n",
       "2            2   86163.615115               0  19679.085213   \n",
       "3            0   44966.762355               1  48425.079021   \n",
       "4            0   51468.195029               0  17877.028178   \n",
       "..         ...            ...             ...           ...   \n",
       "495          1   26551.074895               1  23345.135833   \n",
       "496          2  199618.649744               0  41662.328104   \n",
       "497          2  143443.727300               0  28051.764521   \n",
       "498          0  169982.127404               1  17337.687856   \n",
       "499          0   76558.394361               0  44198.960782   \n",
       "\n",
       "    Loan_Amount_Display  \n",
       "0          2,710,108.23  \n",
       "1            460,328.53  \n",
       "2            176,441.27  \n",
       "3            176,741.83  \n",
       "4            370,063.12  \n",
       "..                  ...  \n",
       "495           34,874.28  \n",
       "496          127,316.10  \n",
       "497           83,974.62  \n",
       "498          436,532.87  \n",
       "499          113,510.92  \n",
       "\n",
       "[500 rows x 10 columns]"
      ]
     },
     "execution_count": 29,
     "metadata": {},
     "output_type": "execute_result"
    }
   ],
   "source": [
    "data"
   ]
  },
  {
   "cell_type": "code",
   "execution_count": null,
   "metadata": {},
   "outputs": [],
   "source": []
  }
 ],
 "metadata": {
  "kernelspec": {
   "display_name": "base",
   "language": "python",
   "name": "python3"
  },
  "language_info": {
   "codemirror_mode": {
    "name": "ipython",
    "version": 3
   },
   "file_extension": ".py",
   "mimetype": "text/x-python",
   "name": "python",
   "nbconvert_exporter": "python",
   "pygments_lexer": "ipython3",
   "version": "3.11.7"
  }
 },
 "nbformat": 4,
 "nbformat_minor": 2
}
