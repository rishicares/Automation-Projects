{
 "cells": [
  {
   "cell_type": "code",
   "execution_count": 13,
   "metadata": {},
   "outputs": [],
   "source": [
    "import cv2\n",
    "import numpy as np\n",
    "import os\n",
    "import yaml\n",
    "from yaml.loader import SafeLoader"
   ]
  },
  {
   "cell_type": "code",
   "execution_count": 14,
   "metadata": {},
   "outputs": [],
   "source": [
    "with open(r'C:\\\\Users\\\\rishi\\\\OneDrive - Storage\\\\Programming\\\\Automation-Projects\\\\yolo\\\\data.yaml', mode='r') as f:\n",
    "    daya_yaml = yaml.load(f, Loader=SafeLoader)\n",
    "labels = daya_yaml['names']"
   ]
  },
  {
   "cell_type": "code",
   "execution_count": 15,
   "metadata": {},
   "outputs": [
    {
     "data": {
      "text/plain": [
       "['car',\n",
       " 'tiger',\n",
       " 'door',\n",
       " 'balloon',\n",
       " 'bird',\n",
       " 'plane',\n",
       " 'bottle',\n",
       " 'chair',\n",
       " 'table',\n",
       " 'computer',\n",
       " 'temple']"
      ]
     },
     "execution_count": 15,
     "metadata": {},
     "output_type": "execute_result"
    }
   ],
   "source": [
    "labels"
   ]
  },
  {
   "cell_type": "code",
   "execution_count": 16,
   "metadata": {},
   "outputs": [],
   "source": [
    "yolo = cv2.dnn.readNetFromONNX(r'C:\\\\Users\\\\rishi\\\\OneDrive - Storage\\\\Programming\\\\Automation-Projects\\\\yolo\\\\Model\\\\weights\\\\best.onnx')"
   ]
  },
  {
   "cell_type": "code",
   "execution_count": 17,
   "metadata": {},
   "outputs": [],
   "source": [
    "yolo.setPreferableBackend(cv2.dnn.DNN_BACKEND_OPENCV)\n",
    "yolo.setPreferableTarget(cv2.dnn.DNN_TARGET_CPU)"
   ]
  },
  {
   "cell_type": "code",
   "execution_count": 18,
   "metadata": {},
   "outputs": [],
   "source": [
    "# Precaptured video\n",
    "video_path = r\"C:\\\\Users\\\\rishi\\\\Downloads\\\\video.mp4\"\n",
    "cap=cv2.VideoCapture(video_path)"
   ]
  },
  {
   "cell_type": "code",
   "execution_count": null,
   "metadata": {},
   "outputs": [],
   "source": [
    "# Webcam Access\n",
    "# cap = cv2.VideoCapture(0)"
   ]
  },
  {
   "cell_type": "code",
   "execution_count": 19,
   "metadata": {},
   "outputs": [
    {
     "ename": "KeyboardInterrupt",
     "evalue": "",
     "output_type": "error",
     "traceback": [
      "\u001b[1;31m---------------------------------------------------------------------------\u001b[0m",
      "\u001b[1;31mKeyboardInterrupt\u001b[0m                         Traceback (most recent call last)",
      "Cell \u001b[1;32mIn[19], line 13\u001b[0m\n\u001b[0;32m     11\u001b[0m blob \u001b[38;5;241m=\u001b[39m cv2\u001b[38;5;241m.\u001b[39mdnn\u001b[38;5;241m.\u001b[39mblobFromImage(input_image, \u001b[38;5;241m1\u001b[39m\u001b[38;5;241m/\u001b[39m\u001b[38;5;241m255\u001b[39m, (INPUT_WH_YOLO, INPUT_WH_YOLO), swapRB\u001b[38;5;241m=\u001b[39m\u001b[38;5;28;01mTrue\u001b[39;00m, crop\u001b[38;5;241m=\u001b[39m\u001b[38;5;28;01mFalse\u001b[39;00m)\n\u001b[0;32m     12\u001b[0m yolo\u001b[38;5;241m.\u001b[39msetInput(blob)\n\u001b[1;32m---> 13\u001b[0m preds \u001b[38;5;241m=\u001b[39m yolo\u001b[38;5;241m.\u001b[39mforward()\n\u001b[0;32m     15\u001b[0m \u001b[38;5;66;03m# Process detections and draw bounding boxes\u001b[39;00m\n\u001b[0;32m     16\u001b[0m detections \u001b[38;5;241m=\u001b[39m preds[\u001b[38;5;241m0\u001b[39m]\n",
      "\u001b[1;31mKeyboardInterrupt\u001b[0m: "
     ]
    }
   ],
   "source": [
    "while True:\n",
    "    ret, frame = cap.read() #Read frame from video\n",
    "\n",
    "    if not ret: # If no frame is captured at the end, break out of video\n",
    "        break\n",
    "    #Preprocess frame and perform YOLO object detection\n",
    "    max_rc = max(frame.shape[:2])\n",
    "    input_image = np.zeros((max_rc, max_rc, 3), dtype=np.uint8)\n",
    "    input_image[0:frame.shape[0], 0:frame.shape[1]]=frame #Paste frame into camvas\n",
    "    INPUT_WH_YOLO = 640\n",
    "    blob = cv2.dnn.blobFromImage(input_image, 1/255, (INPUT_WH_YOLO, INPUT_WH_YOLO), swapRB=True, crop=False)\n",
    "    yolo.setInput(blob)\n",
    "    preds = yolo.forward()\n",
    "\n",
    "    # Process detections and draw bounding boxes\n",
    "    detections = preds[0]\n",
    "    boxes = []\n",
    "    confidences = []\n",
    "    classes = []\n",
    "\n",
    "    image_w, image_h =input_image.shape[:2]\n",
    "    x_factor = image_w / INPUT_WH_YOLO\n",
    "    y_factor = image_h / INPUT_WH_YOLO\n",
    "\n",
    "    for i in range(len(detections)):\n",
    "        row = detections[i]\n",
    "        confidence = row[4]\n",
    "        if confidence > 0.4:\n",
    "            class_score = row[5:].max()\n",
    "            class_id = row[5:].argmax()\n",
    "            if class_score > 0.25:\n",
    "                cx, cy, w, h = row[0:4]\n",
    "                left = int((cx - 0.5 * w) * x_factor)\n",
    "                top = int((cy - 0.5 * h) * y_factor)\n",
    "                width = int(w * x_factor)\n",
    "                height = int(h * y_factor)\n",
    "                box = np.array([left, top, left + width, top + height])\n",
    "\n",
    "                confidences.append(class_score)\n",
    "                boxes.append(box)\n",
    "                classes.append(class_id)\n",
    "\n",
    "boxes_np = np.array(boxes)\n",
    "confidences_np = np.array(confidences)\n",
    "\n",
    "\n",
    "output = cv2.dnn.NMSBoxes(boxes_np, confidences_np, 0.25, 0.45)\n",
    "\n",
    "if len(output) > 0:\n",
    "    index = output.flatten()\n",
    "else:\n",
    "    index = np.empty((0,), dtype=int)\n",
    "\n",
    "for ind in index:\n",
    "    x, y, w, h = boxes_np[ind]\n",
    "    bb_conf = int(confidences_np[ind] * 100)\n",
    "    class_id = classes[ind]\n",
    "    class_name = labels[class_id]\n",
    "\n",
    "    text = f'{class_name}: {bb_conf}%'\n",
    "\n",
    "    cv2.rectangle(frame, (x,y), (x+w, y+h), (0,255,0),2)\n",
    "    cv2.putText(frame, text, (x, y-10), cv2.FONT_HERSHEY_PLAIN, 0.7, (0,0,0), 1)\n",
    "\n",
    "# Display frame with bounding box\n",
    "cv2.imshow('YOLO Object Detection', frame)\n",
    "\n",
    "# Press 'q' to exit\n",
    "if cv2.waitKey(1) & 0xFF == ord('q'):\n",
    "    break\n",
    "\n",
    "# Release resources\n",
    "cap.release()\n",
    "cv2.destroyAllWindows()"
   ]
  },
  {
   "cell_type": "code",
   "execution_count": null,
   "metadata": {},
   "outputs": [],
   "source": []
  }
 ],
 "metadata": {
  "kernelspec": {
   "display_name": "base",
   "language": "python",
   "name": "python3"
  },
  "language_info": {
   "codemirror_mode": {
    "name": "ipython",
    "version": 3
   },
   "file_extension": ".py",
   "mimetype": "text/x-python",
   "name": "python",
   "nbconvert_exporter": "python",
   "pygments_lexer": "ipython3",
   "version": "3.11.7"
  }
 },
 "nbformat": 4,
 "nbformat_minor": 2
}
