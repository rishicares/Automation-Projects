{
 "cells": [
  {
   "cell_type": "code",
   "execution_count": 8,
   "metadata": {},
   "outputs": [
    {
     "name": "stdout",
     "output_type": "stream",
     "text": [
      "Video downloaded successfully!\n"
     ]
    }
   ],
   "source": [
    "import os\n",
    "import sys\n",
    "import time\n",
    "import requests\n",
    "from pytube import YouTube\n",
    "from pytube import exceptions\n",
    "\n",
    "def ytdownloader():\n",
    "    video_url = input(\"Enter the YouTube video URL: \")\n",
    "    save_path = 'C:\\\\Users\\\\rishi\\\\OneDrive - Storage\\\\Programming\\\\Automation-Projects\\\\downloads'\n",
    "\n",
    "    try:\n",
    "        yt = YouTube(video_url)\n",
    "        video = yt.streams.get_highest_resolution()\n",
    "        video.download(save_path)\n",
    "        print(\"Video downloaded successfully!\")\n",
    "    except exceptions.RegexMatchError:\n",
    "        print(\"Invalid YouTube video URL!\")\n",
    "    except exceptions.VideoUnavailable:\n",
    "        print(\"The video is unavailable!\")\n",
    "    except exceptions.ExtractError:\n",
    "        print(\"Error extracting video information!\")\n",
    "    except exceptions.RequestError:\n",
    "        print(\"Error connecting to YouTube!\")\n",
    "\n",
    "ytdownloader()"
   ]
  }
 ],
 "metadata": {
  "kernelspec": {
   "display_name": "base",
   "language": "python",
   "name": "python3"
  },
  "language_info": {
   "codemirror_mode": {
    "name": "ipython",
    "version": 3
   },
   "file_extension": ".py",
   "mimetype": "text/x-python",
   "name": "python",
   "nbconvert_exporter": "python",
   "pygments_lexer": "ipython3",
   "version": "3.11.7"
  }
 },
 "nbformat": 4,
 "nbformat_minor": 2
}
