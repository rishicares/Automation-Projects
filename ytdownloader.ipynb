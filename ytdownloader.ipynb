{
 "cells": [
  {
   "cell_type": "code",
   "execution_count": 1,
   "metadata": {},
   "outputs": [
    {
     "name": "stdout",
     "output_type": "stream",
     "text": [
      "Available video resolutions:\n",
      "1. 1080p\n",
      "2. 720p\n",
      "3. 480p\n",
      "4. 360p\n",
      "5. 240p\n",
      "6. 144p\n",
      "video.mp4 downloaded successfully!\n",
      "Now downloading audio...\n",
      "audio.mp4 downloaded successfully!\n",
      "Video duration: 373.37\n",
      "Audio duration: 373.52\n",
      "Video fps: 23.976023976023978\n",
      "Moviepy - Building video C:\\Users\\rishi\\OneDrive - Storage\\Programming\\Automation-Projects\\downloads\\final_video.mp4.\n",
      "MoviePy - Writing audio in final_videoTEMP_MPY_wvf_snd.mp4\n"
     ]
    },
    {
     "name": "stderr",
     "output_type": "stream",
     "text": [
      "                                                                      \r"
     ]
    },
    {
     "name": "stdout",
     "output_type": "stream",
     "text": [
      "MoviePy - Done.\n",
      "Moviepy - Writing video C:\\Users\\rishi\\OneDrive - Storage\\Programming\\Automation-Projects\\downloads\\final_video.mp4\n",
      "\n"
     ]
    },
    {
     "name": "stderr",
     "output_type": "stream",
     "text": [
      "                                                                \r"
     ]
    },
    {
     "name": "stdout",
     "output_type": "stream",
     "text": [
      "Moviepy - Done !\n",
      "Moviepy - video ready C:\\Users\\rishi\\OneDrive - Storage\\Programming\\Automation-Projects\\downloads\\final_video.mp4\n",
      "Video and audio merged successfully!\n"
     ]
    }
   ],
   "source": [
    "import os\n",
    "from pytube import YouTube, exceptions\n",
    "from moviepy.editor import VideoFileClip, AudioFileClip\n",
    "\n",
    "def get_youtube_video(url):\n",
    "    try:\n",
    "        return YouTube(url)\n",
    "    except exceptions.RegexMatchError:\n",
    "        print(\"Invalid YouTube video URL!\")\n",
    "        return None\n",
    "    except exceptions.VideoUnavailable:\n",
    "        print(\"The video is unavailable!\")\n",
    "        return None\n",
    "    except exceptions.ExtractError:\n",
    "        print(\"Error extracting video information!\")\n",
    "        return None\n",
    "    except exceptions.RequestError:\n",
    "        print(\"Error connecting to YouTube!\")\n",
    "        return None\n",
    "    except Exception as e:\n",
    "        print(f\"An error occurred: {e}\")\n",
    "        return None\n",
    "\n",
    "def list_video_resolutions(video):\n",
    "    streams = video.streams.filter(adaptive=True, only_video=True, file_extension='mp4').order_by('resolution').desc()\n",
    "    for i, stream in enumerate(streams, start=1):\n",
    "        print(f\"{i}. {stream.resolution}\")\n",
    "    return streams\n",
    "\n",
    "def download_stream(stream, output_path, filename):\n",
    "    try:\n",
    "        stream.download(output_path=output_path, filename=filename)\n",
    "        print(f\"{filename} downloaded successfully!\")\n",
    "    except Exception as e:\n",
    "        print(f\"An error occurred while downloading {filename}: {e}\")\n",
    "\n",
    "def merge_video_audio(video_path, audio_path, output_path):\n",
    "    try:\n",
    "        with VideoFileClip(video_path) as video_clip, AudioFileClip(audio_path) as audio_clip:\n",
    "            # Debugging: Print clip properties\n",
    "            print(f\"Video duration: {video_clip.duration}\")\n",
    "            print(f\"Audio duration: {audio_clip.duration}\")\n",
    "            print(f\"Video fps: {video_clip.fps}\")\n",
    "\n",
    "            # Check if properties are None\n",
    "            if video_clip.duration is None or audio_clip.duration is None:\n",
    "                raise ValueError(\"Clip duration is None\")\n",
    "            if video_clip.fps is None:\n",
    "                raise ValueError(\"Video fps is None\")\n",
    "\n",
    "            final_clip = video_clip.set_audio(audio_clip)\n",
    "            final_clip.write_videofile(output_path, codec='libx264', audio_codec='aac')\n",
    "            print(\"Video and audio merged successfully!\")\n",
    "    except Exception as e:\n",
    "        print(f\"An error occurred while merging video and audio: {e}\")\n",
    "\n",
    "def ytdownloader():\n",
    "    video_url = input(\"Enter the YouTube video URL: \")\n",
    "    save_path = 'C:\\\\Users\\\\rishi\\\\OneDrive - Storage\\\\Programming\\\\Automation-Projects\\\\downloads'\n",
    "    \n",
    "    yt = get_youtube_video(video_url)\n",
    "    if not yt:\n",
    "        return\n",
    "\n",
    "    print(\"Available video resolutions:\")\n",
    "    video_streams = list_video_resolutions(yt)\n",
    "    \n",
    "    choice = input(\"Enter the number corresponding to your desired resolution: \")\n",
    "    if not choice.isdigit() or not (1 <= int(choice) <= len(video_streams)):\n",
    "        print(\"Invalid choice!\")\n",
    "        return\n",
    "\n",
    "    choice = int(choice) - 1\n",
    "    video_stream = video_streams[choice]\n",
    "    video_file_path = os.path.join(save_path, 'video.mp4')\n",
    "    download_stream(video_stream, save_path, 'video.mp4')\n",
    "\n",
    "    print(\"Now downloading audio...\")\n",
    "    audio_stream = yt.streams.filter(adaptive=True, only_audio=True, file_extension='mp4').first()\n",
    "    audio_file_path = os.path.join(save_path, 'audio.mp4')\n",
    "    download_stream(audio_stream, save_path, 'audio.mp4')\n",
    "\n",
    "    if os.path.exists(audio_file_path):\n",
    "        merge_video_audio(video_file_path, audio_file_path, os.path.join(save_path, 'final_video.mp4'))\n",
    "    else:\n",
    "        print(\"Audio file not found. Video will be saved without audio.\")\n",
    "        try:\n",
    "            with VideoFileClip(video_file_path) as video_clip:\n",
    "                video_clip.write_videofile(os.path.join(save_path, 'final_video.mp4'), codec='libx264')\n",
    "        except Exception as e:\n",
    "            print(f\"An error occurred while saving video without audio: {e}\")\n",
    "\n",
    "if __name__ == \"__main__\":\n",
    "    ytdownloader()\n"
   ]
  },
  {
   "cell_type": "code",
   "execution_count": null,
   "metadata": {},
   "outputs": [],
   "source": []
  }
 ],
 "metadata": {
  "kernelspec": {
   "display_name": "base",
   "language": "python",
   "name": "python3"
  },
  "language_info": {
   "codemirror_mode": {
    "name": "ipython",
    "version": 3
   },
   "file_extension": ".py",
   "mimetype": "text/x-python",
   "name": "python",
   "nbconvert_exporter": "python",
   "pygments_lexer": "ipython3",
   "version": "3.11.7"
  }
 },
 "nbformat": 4,
 "nbformat_minor": 2
}
